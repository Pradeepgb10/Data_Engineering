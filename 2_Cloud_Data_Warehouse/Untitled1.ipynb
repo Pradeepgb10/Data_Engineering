{
 "cells": [
  {
   "cell_type": "code",
   "execution_count": 1,
   "metadata": {
    "editable": true
   },
   "outputs": [
    {
     "name": "stdout",
     "output_type": "stream",
     "text": [
      "create_tables.py  etl.py        README.md       Untitled1.ipynb\n",
      "dwh.cfg           \u001b[0m\u001b[01;34m__pycache__\u001b[0m/  sql_queries.py  Untitled.ipynb\n"
     ]
    }
   ],
   "source": [
    "ls"
   ]
  },
  {
   "cell_type": "code",
   "execution_count": 4,
   "metadata": {
    "editable": true
   },
   "outputs": [
    {
     "name": "stdout",
     "output_type": "stream",
     "text": [
      "query= \n",
      "        CREATE TABLE IF NOT EXISTS staging_events(\n",
      "                                artist TEXT,\n",
      "                                auth TEXT,\n",
      "                                first_name TEXT,\n",
      "                                gender CHAR(1),\n",
      "                                item_session INTEGER,\n",
      "                                last_name TEXT,\n",
      "                                length NUMERIC,\n",
      "                                level TEXT,\n",
      "                                location TEXT,\n",
      "                                method TEXT,\n",
      "                                page TEXT,\n",
      "                                registration NUMERIC,\n",
      "                                session_id INTEGER,\n",
      "                                song TEXT,\n",
      "                                status INTEGER,\n",
      "                                ts BIGINT,\n",
      "                                user_agent TEXT,\n",
      "                                user_id INTEGER )\n",
      "\n",
      "query= \n",
      "        CREATE TABLE IF NOT EXISTS staging_songs (\n",
      "                num_songs INTEGER,\n",
      "                artist_id VARCHAR(20),\n",
      "                artist_latitude DECIMAL(12, 5),\n",
      "                artist_longitude DECIMAL(12, 5),\n",
      "                artist_location VARCHAR(500),\n",
      "                artist_name VARCHAR(500),\n",
      "                song_id VARCHAR(20),\n",
      "                title VARCHAR(500),\n",
      "                duration DECIMAL(15, 5),\n",
      "                year INTEGER )\n",
      "\n",
      "query= \n",
      "        CREATE TABLE IF NOT EXISTS users (\n",
      "                user_id INTEGER PRIMARY KEY,\n",
      "                first_name VARCHAR(500) NOT NULL,\n",
      "                last_name VARCHAR(500) NOT NULL,\n",
      "                gender CHAR(1),\n",
      "                level VARCHAR(10) NOT NULL )\n",
      "\n",
      "query= \n",
      "        CREATE TABLE IF NOT EXISTS artists (\n",
      "                artist_id VARCHAR(20) PRIMARY KEY,\n",
      "                name VARCHAR(500) NOT NULL SORTKEY,\n",
      "                location VARCHAR(500),\n",
      "                latitude DECIMAL(12,6),\n",
      "                longitude DECIMAL(12,6) )\n",
      "\n",
      "query= \n",
      "        CREATE TABLE IF NOT EXISTS songs (\n",
      "        song_id VARCHAR(20) PRIMARY KEY,\n",
      "        title VARCHAR(500) NOT NULL SORTKEY,\n",
      "        artist_id VARCHAR NOT NULL DISTKEY REFERENCES artists (artist_id),\n",
      "        year INTEGER NOT NULL,\n",
      "        duration DECIMAL (15, 5) NOT NULL )\n",
      "\n",
      "query= \n",
      "        CREATE TABLE IF NOT EXISTS songplays (\n",
      "                songplay_id INTEGER IDENTITY(0,1) SORTKEY,\n",
      "                start_time TIMESTAMP NOT NULL,\n",
      "                user_id INTEGER NOT NULL REFERENCES users (user_id),\n",
      "                level VARCHAR(10),\n",
      "                song_id VARCHAR(20) REFERENCES songs (song_id),\n",
      "                artist_id VARCHAR(20) REFERENCES artists (artist_id),\n",
      "                session_id INTEGER NOT NULL,\n",
      "                location VARCHAR(500),\n",
      "                user_agent VARCHAR(500) )\n",
      "\n",
      "query= \n",
      "        CREATE TABLE IF NOT EXISTS time (\n",
      "        start_time TIMESTAMP NOT NULL PRIMARY KEY SORTKEY,\n",
      "        hour NUMERIC NOT NULL,\n",
      "        day NUMERIC NOT NULL,\n",
      "        week NUMERIC NOT NULL,\n",
      "        month NUMERIC NOT NULL,\n",
      "        year NUMERIC NOT NULL,\n",
      "        weekday NUMERIC NOT NULL )\n",
      "\n"
     ]
    }
   ],
   "source": [
    "!python create_tables.py"
   ]
  },
  {
   "cell_type": "code",
   "execution_count": 2,
   "metadata": {
    "editable": true
   },
   "outputs": [
    {
     "name": "stdout",
     "output_type": "stream",
     "text": [
      "Executing main\n",
      "executing load_staging_tables\n",
      "executing load_staging_tables\n",
      "executing insert_tables\n",
      "executing insert_tables\n",
      "executing insert_tables\n",
      "executing insert_tables\n",
      "executing insert_tables\n"
     ]
    }
   ],
   "source": [
    "!python etl.py"
   ]
  },
  {
   "cell_type": "code",
   "execution_count": null,
   "metadata": {
    "editable": true
   },
   "outputs": [],
   "source": []
  }
 ],
 "metadata": {
  "kernelspec": {
   "display_name": "Python 3",
   "language": "python",
   "name": "python3"
  },
  "language_info": {
   "codemirror_mode": {
    "name": "ipython",
    "version": 3
   },
   "file_extension": ".py",
   "mimetype": "text/x-python",
   "name": "python",
   "nbconvert_exporter": "python",
   "pygments_lexer": "ipython3",
   "version": "3.6.3"
  }
 },
 "nbformat": 4,
 "nbformat_minor": 4
}
